{
 "cells": [
  {
   "cell_type": "code",
   "execution_count": null,
   "id": "61d23d49",
   "metadata": {},
   "outputs": [],
   "source": [
    "#K Nearestneighbors\n"
   ]
  },
  {
   "cell_type": "code",
   "execution_count": 7,
   "id": "5090fb96",
   "metadata": {},
   "outputs": [],
   "source": [
    "import sys\n",
    "\n",
    "import numpy as np\n",
    "import pandas as pd\n",
    "\n",
    "from itertools import product\n",
    "\n",
    "from sklearn.neighbors import KNeighborsClassifier\n",
    "from sklearn.neural_network import MLPClassifier\n",
    "from sklearn.model_selection import train_test_split\n",
    "from sklearn.metrics import accuracy_score\n",
    "from sklearn.datasets import load_iris, load_digits\n",
    "from sklearn.preprocessing import StandardScaler\n",
    "\n",
    "import warnings\n",
    "from sklearn.exceptions import ConvergenceWarning\n",
    "\n",
    "from k_nearest_neighbors import KNearestNeighbors\n",
    "from multilayer_perceptron import MultilayerPerceptron"
   ]
  },
  {
   "cell_type": "code",
   "execution_count": 8,
   "id": "82cd349b",
   "metadata": {
    "scrolled": true
   },
   "outputs": [],
   "source": [
    "    data_i, data_d = load_iris(), load_digits()\n",
    "    X_i, X_d = data_i.data, data_d.data\n",
    "    y_i, y_d = data_i.target, data_d.target"
   ]
  },
  {
   "cell_type": "code",
   "execution_count": 9,
   "id": "9265f96c",
   "metadata": {},
   "outputs": [],
   "source": [
    "X_train_i, X_test_i, y_train_i, y_test_i = train_test_split(X_i, y_i, test_size = 0.3, random_state = 42)\n",
    "X_train_d, X_test_d, y_train_d, y_test_d = train_test_split(X_d, y_d, test_size = 0.3, random_state = 42)"
   ]
  },
  {
   "cell_type": "code",
   "execution_count": null,
   "id": "af99df3c",
   "metadata": {},
   "outputs": [],
   "source": []
  },
  {
   "cell_type": "code",
   "execution_count": null,
   "id": "620c9172",
   "metadata": {},
   "outputs": [],
   "source": []
  }
 ],
 "metadata": {
  "kernelspec": {
   "display_name": "Python 3",
   "language": "python",
   "name": "python3"
  }
 },
 "nbformat": 4,
 "nbformat_minor": 5
}
